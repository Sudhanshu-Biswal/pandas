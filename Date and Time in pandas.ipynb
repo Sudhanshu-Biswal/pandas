{
 "cells": [
  {
   "cell_type": "code",
   "execution_count": 1,
   "id": "c1356158",
   "metadata": {},
   "outputs": [],
   "source": [
    "import numpy as np\n",
    "import pandas as pd"
   ]
  },
  {
   "cell_type": "markdown",
   "id": "a5da603d",
   "metadata": {},
   "source": [
    "# Timestamp Object"
   ]
  },
  {
   "cell_type": "markdown",
   "id": "6cbfe1e4",
   "metadata": {},
   "source": [
    "Time stamps reference particular moments in time(e.g Oct 24th, 2022 at 7:00pm) "
   ]
  },
  {
   "cell_type": "markdown",
   "id": "d93d90c0",
   "metadata": {},
   "source": [
    "# Creating Timestamp objects"
   ]
  },
  {
   "cell_type": "code",
   "execution_count": 7,
   "id": "e323c43c",
   "metadata": {},
   "outputs": [
    {
     "data": {
      "text/plain": [
       "Timestamp('2023-02-28 00:00:00')"
      ]
     },
     "execution_count": 7,
     "metadata": {},
     "output_type": "execute_result"
    }
   ],
   "source": [
    "#creating a timestamp\n",
    "pd.Timestamp(\"2023/2/28\")"
   ]
  },
  {
   "cell_type": "code",
   "execution_count": 8,
   "id": "1000ec1d",
   "metadata": {},
   "outputs": [
    {
     "data": {
      "text/plain": [
       "pandas._libs.tslibs.timestamps.Timestamp"
      ]
     },
     "execution_count": 8,
     "metadata": {},
     "output_type": "execute_result"
    }
   ],
   "source": [
    "type(pd.Timestamp(\"2023/2/28\"))"
   ]
  },
  {
   "cell_type": "code",
   "execution_count": 10,
   "id": "316c206f",
   "metadata": {},
   "outputs": [
    {
     "data": {
      "text/plain": [
       "Timestamp('2023-02-28 00:00:00')"
      ]
     },
     "execution_count": 10,
     "metadata": {},
     "output_type": "execute_result"
    }
   ],
   "source": [
    "#variations\n",
    "pd.Timestamp(\"2023-2-28\")\n",
    "pd.Timestamp(\"2023, 2, 28\")"
   ]
  },
  {
   "cell_type": "code",
   "execution_count": 11,
   "id": "afaf0261",
   "metadata": {},
   "outputs": [
    {
     "data": {
      "text/plain": [
       "Timestamp('2023-01-01 00:00:00')"
      ]
     },
     "execution_count": 11,
     "metadata": {},
     "output_type": "execute_result"
    }
   ],
   "source": [
    "#only year\n",
    "pd.Timestamp(\"2023\")"
   ]
  },
  {
   "cell_type": "code",
   "execution_count": 12,
   "id": "a3f6af16",
   "metadata": {},
   "outputs": [
    {
     "data": {
      "text/plain": [
       "Timestamp('2023-02-28 00:00:00')"
      ]
     },
     "execution_count": 12,
     "metadata": {},
     "output_type": "execute_result"
    }
   ],
   "source": [
    "#using text\n",
    "pd.Timestamp(\"28th feb 2023\")"
   ]
  },
  {
   "cell_type": "code",
   "execution_count": 15,
   "id": "b317c04b",
   "metadata": {},
   "outputs": [
    {
     "data": {
      "text/plain": [
       "Timestamp('2023-02-28 12:50:00')"
      ]
     },
     "execution_count": 15,
     "metadata": {},
     "output_type": "execute_result"
    }
   ],
   "source": [
    "#providing time also\n",
    "pd.Timestamp(\"28th feb 2023 12:50pm\")"
   ]
  },
  {
   "cell_type": "code",
   "execution_count": 16,
   "id": "1e322948",
   "metadata": {},
   "outputs": [],
   "source": [
    "#AM/PM"
   ]
  },
  {
   "cell_type": "code",
   "execution_count": 20,
   "id": "d6a8817e",
   "metadata": {},
   "outputs": [
    {
     "data": {
      "text/plain": [
       "datetime.datetime(2023, 2, 28, 12, 50, 23)"
      ]
     },
     "execution_count": 20,
     "metadata": {},
     "output_type": "execute_result"
    }
   ],
   "source": [
    "#using python datetime objects\n",
    "import datetime as dt\n",
    "dt.datetime(2023,2,28,12,50,23)"
   ]
  },
  {
   "cell_type": "code",
   "execution_count": 22,
   "id": "355315b4",
   "metadata": {},
   "outputs": [
    {
     "data": {
      "text/plain": [
       "Timestamp('2023-02-28 12:50:23')"
      ]
     },
     "execution_count": 22,
     "metadata": {},
     "output_type": "execute_result"
    }
   ],
   "source": [
    "x = pd.Timestamp(dt.datetime(2023,2,28,12,50,23))\n",
    "x"
   ]
  },
  {
   "cell_type": "code",
   "execution_count": 30,
   "id": "aec8f845",
   "metadata": {},
   "outputs": [
    {
     "data": {
      "text/plain": [
       "23"
      ]
     },
     "execution_count": 30,
     "metadata": {},
     "output_type": "execute_result"
    }
   ],
   "source": [
    "x.year\n",
    "x.month\n",
    "x.day\n",
    "x.hour\n",
    "x.minute\n",
    "x.second"
   ]
  },
  {
   "cell_type": "code",
   "execution_count": 18,
   "id": "a0dc40a8",
   "metadata": {},
   "outputs": [],
   "source": [
    "#fetching attributes"
   ]
  },
  {
   "cell_type": "code",
   "execution_count": 19,
   "id": "c359efad",
   "metadata": {},
   "outputs": [],
   "source": [
    "#why separate objects to handle data and time with pyton already has datetime functionality?"
   ]
  },
  {
   "cell_type": "markdown",
   "id": "d5f727d2",
   "metadata": {},
   "source": [
    "Syntax wise datetime is very convenient"
   ]
  },
  {
   "cell_type": "markdown",
   "id": "add62055",
   "metadata": {},
   "source": [
    "But the performance takes a hit while working with huge data. List vs Numpy Array"
   ]
  },
  {
   "cell_type": "markdown",
   "id": "87935d53",
   "metadata": {},
   "source": [
    "The weakness of python's datetime format inspired the Numpy team to add a set of native time series data type to Numpy"
   ]
  },
  {
   "cell_type": "markdown",
   "id": "3afc95cc",
   "metadata": {},
   "source": [
    "The datetime64 dtype encodes dates as 64-bit integers, and thus allows array of dates to be represented very compactly"
   ]
  },
  {
   "cell_type": "code",
   "execution_count": 31,
   "id": "30b8dbe5",
   "metadata": {},
   "outputs": [
    {
     "data": {
      "text/plain": [
       "array('2015-07-04', dtype='datetime64[D]')"
      ]
     },
     "execution_count": 31,
     "metadata": {},
     "output_type": "execute_result"
    }
   ],
   "source": [
    "date = np.array(\"2015-07-04\",dtype=np.datetime64)\n",
    "date"
   ]
  },
  {
   "cell_type": "code",
   "execution_count": 32,
   "id": "08b701e2",
   "metadata": {},
   "outputs": [
    {
     "data": {
      "text/plain": [
       "array(['2015-07-04', '2015-07-05', '2015-07-06', '2015-07-07',\n",
       "       '2015-07-08', '2015-07-09', '2015-07-10', '2015-07-11',\n",
       "       '2015-07-12', '2015-07-13', '2015-07-14', '2015-07-15',\n",
       "       '2015-07-16', '2015-07-17', '2015-07-18', '2015-07-19',\n",
       "       '2015-07-20', '2015-07-21', '2015-07-22', '2015-07-23',\n",
       "       '2015-07-24', '2015-07-25'], dtype='datetime64[D]')"
      ]
     },
     "execution_count": 32,
     "metadata": {},
     "output_type": "execute_result"
    }
   ],
   "source": [
    "date + np.arange(22)"
   ]
  },
  {
   "cell_type": "markdown",
   "id": "b4beaa57",
   "metadata": {},
   "source": [
    "From a group of these Timestamp objects, pandas can construct a Datatimeindex that can be used to index data in a Series or DataFrame"
   ]
  },
  {
   "cell_type": "markdown",
   "id": "39e67564",
   "metadata": {},
   "source": [
    "# datetimeindex object"
   ]
  },
  {
   "cell_type": "markdown",
   "id": "82aab8fd",
   "metadata": {},
   "source": [
    "A collection of pandas timestamp"
   ]
  },
  {
   "cell_type": "code",
   "execution_count": 34,
   "id": "200e04c2",
   "metadata": {},
   "outputs": [
    {
     "data": {
      "text/plain": [
       "DatetimeIndex(['2023-01-01', '2023-02-12', '2023-04-10'], dtype='datetime64[ns]', freq=None)"
      ]
     },
     "execution_count": 34,
     "metadata": {},
     "output_type": "execute_result"
    }
   ],
   "source": [
    "# from string\n",
    "pd.DatetimeIndex([\"2023/1/1\",\"2023/2/12\",\"2023/4/10\"])"
   ]
  },
  {
   "cell_type": "code",
   "execution_count": 36,
   "id": "6d77c49e",
   "metadata": {},
   "outputs": [
    {
     "data": {
      "text/plain": [
       "DatetimeIndex(['2023-01-01', '2023-02-12', '2023-04-10'], dtype='datetime64[ns]', freq=None)"
      ]
     },
     "execution_count": 36,
     "metadata": {},
     "output_type": "execute_result"
    }
   ],
   "source": [
    "#using python datetime object\n",
    "pd.DatetimeIndex([dt.datetime(2023,1,1),dt.datetime(2023,2,12),dt.datetime(2023,4,10)])"
   ]
  },
  {
   "cell_type": "code",
   "execution_count": 38,
   "id": "775a724a",
   "metadata": {},
   "outputs": [],
   "source": [
    "#using pd timestamp\n",
    "dt_index = pd.DatetimeIndex([pd.Timestamp(2023,1,1),pd.Timestamp(2023,2,12),pd.Timestamp(2023,4,10)])\n",
    "\n"
   ]
  },
  {
   "cell_type": "code",
   "execution_count": 39,
   "id": "40fa5a9f",
   "metadata": {},
   "outputs": [
    {
     "data": {
      "text/plain": [
       "2023-01-01    1\n",
       "2023-02-12    2\n",
       "2023-04-10    3\n",
       "dtype: int64"
      ]
     },
     "execution_count": 39,
     "metadata": {},
     "output_type": "execute_result"
    }
   ],
   "source": [
    "# using datetimeindex as series index\n",
    "pd.Series([1,2,3],index=dt_index)"
   ]
  },
  {
   "cell_type": "markdown",
   "id": "54045fd9",
   "metadata": {},
   "source": [
    "# date_range function"
   ]
  },
  {
   "cell_type": "code",
   "execution_count": 44,
   "id": "fb4fb3fd",
   "metadata": {},
   "outputs": [
    {
     "data": {
      "text/plain": [
       "DatetimeIndex(['2023-01-05', '2023-01-07', '2023-01-09', '2023-01-11',\n",
       "               '2023-01-13', '2023-01-15', '2023-01-17', '2023-01-19',\n",
       "               '2023-01-21', '2023-01-23', '2023-01-25', '2023-01-27',\n",
       "               '2023-01-29', '2023-01-31'],\n",
       "              dtype='datetime64[ns]', freq='2D')"
      ]
     },
     "execution_count": 44,
     "metadata": {},
     "output_type": "execute_result"
    }
   ],
   "source": [
    "# generate daily dates in a given range\n",
    "pd.date_range(start='2023/1/5',end='2023/1/31',freq=\"D\")"
   ]
  },
  {
   "cell_type": "code",
   "execution_count": 45,
   "id": "598e8925",
   "metadata": {},
   "outputs": [
    {
     "data": {
      "text/plain": [
       "DatetimeIndex(['2023-01-05', '2023-01-07', '2023-01-09', '2023-01-11',\n",
       "               '2023-01-13', '2023-01-15', '2023-01-17', '2023-01-19',\n",
       "               '2023-01-21', '2023-01-23', '2023-01-25', '2023-01-27',\n",
       "               '2023-01-29', '2023-01-31'],\n",
       "              dtype='datetime64[ns]', freq='2D')"
      ]
     },
     "execution_count": 45,
     "metadata": {},
     "output_type": "execute_result"
    }
   ],
   "source": [
    "# alternate days in a given range\n",
    "pd.date_range(start='2023/1/5',end='2023/1/31',freq=\"2D\")"
   ]
  },
  {
   "cell_type": "code",
   "execution_count": 46,
   "id": "28efc9d2",
   "metadata": {},
   "outputs": [
    {
     "data": {
      "text/plain": [
       "DatetimeIndex(['2023-01-05', '2023-01-06', '2023-01-09', '2023-01-10',\n",
       "               '2023-01-11', '2023-01-12', '2023-01-13', '2023-01-16',\n",
       "               '2023-01-17', '2023-01-18', '2023-01-19', '2023-01-20',\n",
       "               '2023-01-23', '2023-01-24', '2023-01-25', '2023-01-26',\n",
       "               '2023-01-27', '2023-01-30', '2023-01-31'],\n",
       "              dtype='datetime64[ns]', freq='B')"
      ]
     },
     "execution_count": 46,
     "metadata": {},
     "output_type": "execute_result"
    }
   ],
   "source": [
    "# B -> business days\n",
    "pd.date_range(start='2023/1/5',end='2023/1/31',freq=\"B\")"
   ]
  },
  {
   "cell_type": "code",
   "execution_count": 47,
   "id": "05c4206d",
   "metadata": {},
   "outputs": [
    {
     "data": {
      "text/plain": [
       "DatetimeIndex(['2023-01-08', '2023-01-15', '2023-01-22', '2023-01-29'], dtype='datetime64[ns]', freq='W-SUN')"
      ]
     },
     "execution_count": 47,
     "metadata": {},
     "output_type": "execute_result"
    }
   ],
   "source": [
    "# W -> one week per day\n",
    "pd.date_range(start='2023/1/5',end='2023/1/31',freq=\"W\")"
   ]
  },
  {
   "cell_type": "code",
   "execution_count": 50,
   "id": "307ec022",
   "metadata": {},
   "outputs": [
    {
     "data": {
      "text/plain": [
       "DatetimeIndex(['2023-01-05 00:00:00', '2023-01-05 06:00:00',\n",
       "               '2023-01-05 12:00:00', '2023-01-05 18:00:00',\n",
       "               '2023-01-06 00:00:00', '2023-01-06 06:00:00',\n",
       "               '2023-01-06 12:00:00', '2023-01-06 18:00:00',\n",
       "               '2023-01-07 00:00:00', '2023-01-07 06:00:00',\n",
       "               ...\n",
       "               '2023-01-28 18:00:00', '2023-01-29 00:00:00',\n",
       "               '2023-01-29 06:00:00', '2023-01-29 12:00:00',\n",
       "               '2023-01-29 18:00:00', '2023-01-30 00:00:00',\n",
       "               '2023-01-30 06:00:00', '2023-01-30 12:00:00',\n",
       "               '2023-01-30 18:00:00', '2023-01-31 00:00:00'],\n",
       "              dtype='datetime64[ns]', length=105, freq='6H')"
      ]
     },
     "execution_count": 50,
     "metadata": {},
     "output_type": "execute_result"
    }
   ],
   "source": [
    "# H -> hourly data(factor)\n",
    "pd.date_range(start='2023/1/5',end='2023/1/31',freq=\"H\")\n",
    "pd.date_range(start='2023/1/5',end='2023/1/31',freq=\"6H\")"
   ]
  },
  {
   "cell_type": "code",
   "execution_count": 51,
   "id": "bc1b1083",
   "metadata": {},
   "outputs": [
    {
     "data": {
      "text/plain": [
       "DatetimeIndex(['2023-01-31'], dtype='datetime64[ns]', freq='M')"
      ]
     },
     "execution_count": 51,
     "metadata": {},
     "output_type": "execute_result"
    }
   ],
   "source": [
    "#m -> Month end\n",
    "pd.date_range(start='2023/1/5',end='2023/1/31',freq=\"M\")"
   ]
  },
  {
   "cell_type": "code",
   "execution_count": 52,
   "id": "be257e33",
   "metadata": {},
   "outputs": [
    {
     "data": {
      "text/plain": [
       "DatetimeIndex([], dtype='datetime64[ns]', freq='MS')"
      ]
     },
     "execution_count": 52,
     "metadata": {},
     "output_type": "execute_result"
    }
   ],
   "source": [
    "# MS -> month start\n",
    "pd.date_range(start='2023/1/5',end='2023/1/31',freq=\"MS\")"
   ]
  },
  {
   "cell_type": "code",
   "execution_count": 53,
   "id": "2a7d7d6c",
   "metadata": {},
   "outputs": [
    {
     "data": {
      "text/plain": [
       "DatetimeIndex([], dtype='datetime64[ns]', freq='A-DEC')"
      ]
     },
     "execution_count": 53,
     "metadata": {},
     "output_type": "execute_result"
    }
   ],
   "source": [
    "#A -> year end\n",
    "pd.date_range(start='2023/1/5',end='2023/1/31',freq=\"A\")"
   ]
  },
  {
   "cell_type": "code",
   "execution_count": 55,
   "id": "8921e4ee",
   "metadata": {},
   "outputs": [
    {
     "data": {
      "text/plain": [
       "DatetimeIndex(['2023-01-05', '2023-01-06', '2023-01-07', '2023-01-08',\n",
       "               '2023-01-09', '2023-01-10', '2023-01-11', '2023-01-12',\n",
       "               '2023-01-13', '2023-01-14', '2023-01-15', '2023-01-16',\n",
       "               '2023-01-17', '2023-01-18', '2023-01-19', '2023-01-20',\n",
       "               '2023-01-21', '2023-01-22', '2023-01-23', '2023-01-24',\n",
       "               '2023-01-25', '2023-01-26', '2023-01-27', '2023-01-28',\n",
       "               '2023-01-29'],\n",
       "              dtype='datetime64[ns]', freq='D')"
      ]
     },
     "execution_count": 55,
     "metadata": {},
     "output_type": "execute_result"
    }
   ],
   "source": [
    "# using period(number of results)\n",
    "pd.date_range(start='2023/1/5',periods=25,freq=\"D\")"
   ]
  },
  {
   "cell_type": "markdown",
   "id": "9d24c92b",
   "metadata": {},
   "source": [
    "# to_datetime function"
   ]
  },
  {
   "cell_type": "markdown",
   "id": "b25239d8",
   "metadata": {},
   "source": [
    "converts an existing objects to pandas timestamp/datetimeindex object"
   ]
  },
  {
   "cell_type": "code",
   "execution_count": 60,
   "id": "6d8e4379",
   "metadata": {},
   "outputs": [
    {
     "data": {
      "text/plain": [
       "0      Sunday\n",
       "1    Saturday\n",
       "2      Friday\n",
       "dtype: object"
      ]
     },
     "execution_count": 60,
     "metadata": {},
     "output_type": "execute_result"
    }
   ],
   "source": [
    "#simple series example\n",
    "s = pd.Series([\"2023/1/1\",\"2022/1/1\",\"2021/1/1\"])\n",
    "pd.to_datetime(s).dt.day_name()"
   ]
  },
  {
   "cell_type": "code",
   "execution_count": 61,
   "id": "3256306a",
   "metadata": {},
   "outputs": [
    {
     "data": {
      "text/plain": [
       "0   2023-01-01\n",
       "1   2022-01-01\n",
       "2          NaT\n",
       "dtype: datetime64[ns]"
      ]
     },
     "execution_count": 61,
     "metadata": {},
     "output_type": "execute_result"
    }
   ],
   "source": [
    "#with errors\n",
    "s = pd.Series([\"2023/1/1\",\"2022/1/1\",\"2021/130/1\"])\n",
    "pd.to_datetime(s,errors='coerce')"
   ]
  },
  {
   "cell_type": "code",
   "execution_count": null,
   "id": "ce541ecc",
   "metadata": {},
   "outputs": [],
   "source": []
  }
 ],
 "metadata": {
  "kernelspec": {
   "display_name": "Python 3 (ipykernel)",
   "language": "python",
   "name": "python3"
  },
  "language_info": {
   "codemirror_mode": {
    "name": "ipython",
    "version": 3
   },
   "file_extension": ".py",
   "mimetype": "text/x-python",
   "name": "python",
   "nbconvert_exporter": "python",
   "pygments_lexer": "ipython3",
   "version": "3.9.12"
  }
 },
 "nbformat": 4,
 "nbformat_minor": 5
}
